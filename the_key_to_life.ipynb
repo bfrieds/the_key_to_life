{
 "cells": [
  {
   "cell_type": "markdown",
   "metadata": {},
   "source": [
    "# The Key to Life"
   ]
  },
  {
   "cell_type": "markdown",
   "metadata": {},
   "source": [
    "## Imports and Global Variables"
   ]
  },
  {
   "cell_type": "code",
   "execution_count": 1,
   "metadata": {
    "collapsed": true
   },
   "outputs": [],
   "source": [
    "import numpy as np\n",
    "import pandas as pd\n",
    "from sklearn.utils import shuffle\n",
    "from sklearn.model_selection import train_test_split\n",
    "from sklearn.linear_model import LogisticRegression\n",
    "from sklearn.ensemble import AdaBoostClassifier\n",
    "\n",
    "TEST_SIZE = 0.33\n",
    "LABELS = [\"Brian\", \"Eleanor\"]\n",
    "FILES = [\"brian_keylogs_clean.csv\", \"eleanor_keylogs_clean.csv\"]"
   ]
  },
  {
   "cell_type": "markdown",
   "metadata": {},
   "source": [
    "## Featurization and Train/Test Split (DO NOT TOUCH)"
   ]
  },
  {
   "cell_type": "code",
   "execution_count": 4,
   "metadata": {
    "collapsed": true
   },
   "outputs": [],
   "source": [
    "def featurize_that_bish(df, top_pairs=None):\n",
    "    data = pd.DataFrame(df.groupby(\"pair\")['delta'].mean().reset_index())\n",
    "    if top_pairs:\n",
    "        data = data.where(data[\"pair\"].isin(top_pairs)).dropna()\n",
    "    data.columns = [\"pair\", \"delta_avg\"]\n",
    "    data = data.reset_index()\n",
    "    del data[\"index\"]\n",
    "    data = data.sort_values(\"pair\", ascending=False)\n",
    "    data = data.transpose()\n",
    "    return data\n",
    "\n",
    "def combine_data(a, b):\n",
    "    new = pd.DataFrame(a)\n",
    "    new.append(b, axis=1)\n",
    "    return new\n",
    "\n",
    "def create_matrix(lst):\n",
    "    mat = lst[0]\n",
    "    for mat1 in lst[1:]:\n",
    "        mat = mat.append(mat1)\n",
    "    return np.asmatrix(mat)\n",
    "\n",
    "def get_top_pairs():\n",
    "    return set(dataframes[0].groupby(\"pair\").count().sort_values(\"delta\", ascending=False).reset_index()[:100]['pair'])\n",
    "\n",
    "def get_train_test(dataframes):\n",
    "    top_pairs = get_top_pairs()\n",
    "    train_test = [train_test_split(df, test_size = TEST_SIZE) for df in dataframes]\n",
    "    featurized = [(featurize_that_bish(pair[0], top_pairs), featurize_that_bish(pair[1], top_pairs)) for pair in train_test]\n",
    "    training_lst = [pair[0].iloc[1:] for pair in featurized]\n",
    "    test_lst = [pair[1].iloc[1:] for pair in featurized]\n",
    "    train = np.asmatrix(pd.DataFrame(create_matrix(training_lst)).fillna(0))\n",
    "    test = np.asmatrix(pd.DataFrame(create_matrix(test_lst)).fillna(0))\n",
    "    return train, test\n",
    "\n",
    "def print_probabilities(model, test):\n",
    "    result = list(model.predict_proba(test))\n",
    "    print(LABELS)\n",
    "    for arr in result:\n",
    "        print(arr)"
   ]
  },
  {
   "cell_type": "code",
   "execution_count": 5,
   "metadata": {},
   "outputs": [],
   "source": [
    "dataframes = [shuffle(pd.read_csv(file)) for file in FILES]\n",
    "train, test = get_train_test(dataframes)"
   ]
  },
  {
   "cell_type": "markdown",
   "metadata": {},
   "source": [
    "## Logistic Regression"
   ]
  },
  {
   "cell_type": "code",
   "execution_count": 7,
   "metadata": {},
   "outputs": [
    {
     "name": "stdout",
     "output_type": "stream",
     "text": [
      "['Brian', 'Eleanor']\n",
      "[ 0.50659219  0.49340781]\n",
      "[ 0.47710972  0.52289028]\n",
      "None\n"
     ]
    }
   ],
   "source": [
    "log = LogisticRegression(penalty='l2')\n",
    "log.fit(train, LABELS)\n",
    "print(print_probabilities(log, test))"
   ]
  },
  {
   "cell_type": "markdown",
   "metadata": {},
   "source": [
    "## SVM"
   ]
  },
  {
   "cell_type": "code",
   "execution_count": 11,
   "metadata": {},
   "outputs": [
    {
     "data": {
      "text/plain": [
       "(                            99                       98             97  \\\n",
       " pair       Key.space,Key.shift  Key.space,Key.backspace  Key.space,'w'   \n",
       " delta_avg             0.328646                 0.613305       0.225602   \n",
       " \n",
       "                       96             95             94             93  \\\n",
       " pair       Key.space,'t'  Key.space,'s'  Key.space,'r'  Key.space,'p'   \n",
       " delta_avg       0.216671       0.235099       0.244429       0.252324   \n",
       " \n",
       "                       92             91             90      ...        \\\n",
       " pair       Key.space,'o'  Key.space,'m'  Key.space,'l'      ...         \n",
       " delta_avg       0.261095       0.307238       0.271035      ...         \n",
       " \n",
       "                  9         8              7         6         5         4   \\\n",
       " pair        'c','a'   'b','e'  'a',Key.space   'a','t'   'a','s'   'a','r'   \n",
       " delta_avg  0.135022  0.172133       0.128899  0.140291  0.119371  0.138392   \n",
       " \n",
       "                  3         2        1              0   \n",
       " pair        'a','n'   'a','l'  'a','c'  '.',Key.space  \n",
       " delta_avg  0.109529  0.127128  0.21043       0.110958  \n",
       " \n",
       " [2 rows x 100 columns],\n",
       "                             99                       98             97  \\\n",
       " pair       Key.space,Key.shift  Key.space,Key.backspace  Key.space,'w'   \n",
       " delta_avg             0.337847                 0.639294       0.276508   \n",
       " \n",
       "                       96             95             94             93  \\\n",
       " pair       Key.space,'t'  Key.space,'s'  Key.space,'r'  Key.space,'p'   \n",
       " delta_avg       0.201826       0.262178       0.271198       0.313158   \n",
       " \n",
       "                       92             91             90      ...        \\\n",
       " pair       Key.space,'o'  Key.space,'m'  Key.space,'l'      ...         \n",
       " delta_avg       0.205192       0.231838        0.24118      ...         \n",
       " \n",
       "                  9         8              7         6         5         4   \\\n",
       " pair        'c','a'   'b','e'  'a',Key.space   'a','t'   'a','s'   'a','r'   \n",
       " delta_avg  0.137548  0.161969       0.144904  0.125039  0.108703  0.132706   \n",
       " \n",
       "                 3         2         1              0   \n",
       " pair       'a','n'   'a','l'   'a','c'  '.',Key.space  \n",
       " delta_avg  0.10875  0.116554  0.203375        0.13894  \n",
       " \n",
       " [2 rows x 100 columns])"
      ]
     },
     "execution_count": 11,
     "metadata": {},
     "output_type": "execute_result"
    }
   ],
   "source": [
    "top_pairs = get_top_pairs()\n",
    "train_test = [train_test_split(df, test_size = TEST_SIZE) for df in dataframes]\n",
    "featurized = [(featurize_that_bish(pair[0], top_pairs), featurize_that_bish(pair[1], top_pairs)) for pair in train_test]\n",
    "featurized[0]"
   ]
  },
  {
   "cell_type": "markdown",
   "metadata": {},
   "source": [
    "## Random Forests"
   ]
  },
  {
   "cell_type": "code",
   "execution_count": 189,
   "metadata": {},
   "outputs": [
    {
     "name": "stdout",
     "output_type": "stream",
     "text": [
      "['Brian', 'Eleanor']\n",
      "[  1.00000000e+00   2.22044605e-16]\n",
      "[  1.00000000e+00   2.22044605e-16]\n",
      "None\n"
     ]
    }
   ],
   "source": [
    "boost = AdaBoostClassifier()\n",
    "boost.fit(train, labels)\n",
    "print(print_probabilities(boost, test))"
   ]
  },
  {
   "cell_type": "code",
   "execution_count": null,
   "metadata": {
    "collapsed": true
   },
   "outputs": [],
   "source": []
  }
 ],
 "metadata": {
  "kernelspec": {
   "display_name": "Python 3",
   "language": "python",
   "name": "python3"
  },
  "language_info": {
   "codemirror_mode": {
    "name": "ipython",
    "version": 3
   },
   "file_extension": ".py",
   "mimetype": "text/x-python",
   "name": "python",
   "nbconvert_exporter": "python",
   "pygments_lexer": "ipython3",
   "version": "3.6.2"
  }
 },
 "nbformat": 4,
 "nbformat_minor": 2
}
