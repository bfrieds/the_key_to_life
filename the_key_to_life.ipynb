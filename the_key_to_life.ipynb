{
 "cells": [
  {
   "cell_type": "markdown",
   "metadata": {},
   "source": [
    "# The Key to Life"
   ]
  },
  {
   "cell_type": "markdown",
   "metadata": {},
   "source": [
    "## Imports and Global Variables"
   ]
  },
  {
   "cell_type": "code",
   "execution_count": 8,
   "metadata": {
    "collapsed": true
   },
   "outputs": [],
   "source": [
    "import numpy as np\n",
    "import pandas as pd\n",
    "from sklearn.utils import shuffle\n",
    "from sklearn.model_selection import train_test_split\n",
    "from sklearn.linear_model import LogisticRegression\n",
    "from sklearn.ensemble import AdaBoostClassifier\n",
    "\n",
    "TEST_SIZE = 0.33\n",
    "LABELS = [\"Brian\", \"Eleanor\", \"Walt\"]\n",
    "FILES = [\"brian_keylogs_clean.csv\", \"eleanor_keylogs_clean.csv\", \"walt_combined_clean.csv\"]"
   ]
  },
  {
   "cell_type": "markdown",
   "metadata": {},
   "source": [
    "## Featurization and Train/Test Split (DO NOT TOUCH)"
   ]
  },
  {
   "cell_type": "code",
   "execution_count": 9,
   "metadata": {
    "collapsed": true
   },
   "outputs": [],
   "source": [
    "def featurize_that_bish(df, top_pairs=None):\n",
    "    data = pd.DataFrame(df.groupby(\"pair\")['delta'].mean().reset_index())\n",
    "    if top_pairs:\n",
    "        data = data.where(data[\"pair\"].isin(top_pairs)).dropna()\n",
    "    data.columns = [\"pair\", \"delta_avg\"]\n",
    "    data = data.reset_index()\n",
    "    del data[\"index\"]\n",
    "    data = data.sort_values(\"pair\", ascending=False)\n",
    "    data = data.transpose()\n",
    "    return data\n",
    "\n",
    "def combine_data(a, b):\n",
    "    new = pd.DataFrame(a)\n",
    "    new.append(b, axis=1)\n",
    "    return new\n",
    "\n",
    "def create_matrix(lst):\n",
    "    mat = lst[0]\n",
    "    for mat1 in lst[1:]:\n",
    "        mat = mat.append(mat1)\n",
    "    return np.asmatrix(mat)\n",
    "\n",
    "def get_top_pairs():\n",
    "    return set(dataframes[0].groupby(\"pair\").count().sort_values(\"delta\", ascending=False).reset_index()[:100]['pair'])\n",
    "\n",
    "def get_train_test(dataframes):\n",
    "    top_pairs = get_top_pairs()\n",
    "    train_test = [train_test_split(df, test_size = TEST_SIZE) for df in dataframes]\n",
    "    featurized = [(featurize_that_bish(pair[0], top_pairs), featurize_that_bish(pair[1], top_pairs)) for pair in train_test]\n",
    "    training_lst = [pair[0].iloc[1:] for pair in featurized]\n",
    "    test_lst = [pair[1].iloc[1:] for pair in featurized]\n",
    "    train = np.asmatrix(pd.DataFrame(create_matrix(training_lst)).fillna(0))\n",
    "    test = np.asmatrix(pd.DataFrame(create_matrix(test_lst)).fillna(0))\n",
    "    return train, test\n",
    "\n",
    "def print_probabilities(model, test):\n",
    "    result = list(model.predict_proba(test))\n",
    "    print(LABELS)\n",
    "    for arr in result:\n",
    "        print(arr)"
   ]
  },
  {
   "cell_type": "code",
   "execution_count": 10,
   "metadata": {
    "collapsed": true
   },
   "outputs": [],
   "source": [
    "dataframes = [shuffle(pd.read_csv(file)) for file in FILES]\n",
    "train, test = get_train_test(dataframes)"
   ]
  },
  {
   "cell_type": "markdown",
   "metadata": {},
   "source": [
    "## Logistic Regression"
   ]
  },
  {
   "cell_type": "code",
   "execution_count": 11,
   "metadata": {},
   "outputs": [
    {
     "name": "stdout",
     "output_type": "stream",
     "text": [
      "['Brian', 'Eleanor', 'Walt']\n",
      "[ 0.38289894  0.34916268  0.26793838]\n",
      "[ 0.37036416  0.38082694  0.2488089 ]\n",
      "[ 0.31473201  0.31423442  0.37103357]\n",
      "None\n"
     ]
    }
   ],
   "source": [
    "log = LogisticRegression(penalty='l2')\n",
    "log.fit(train, LABELS)\n",
    "print(print_probabilities(log, test))"
   ]
  },
  {
   "cell_type": "markdown",
   "metadata": {},
   "source": [
    "## SVM"
   ]
  },
  {
   "cell_type": "code",
   "execution_count": 12,
   "metadata": {},
   "outputs": [
    {
     "data": {
      "text/plain": [
       "(                            99                       98             97  \\\n",
       " pair       Key.space,Key.shift  Key.space,Key.backspace  Key.space,'w'   \n",
       " delta_avg             0.330394                 0.623971        0.24462   \n",
       " \n",
       "                       96             95             94             93  \\\n",
       " pair       Key.space,'t'  Key.space,'s'  Key.space,'r'  Key.space,'p'   \n",
       " delta_avg        0.21059       0.253325       0.260316        0.27709   \n",
       " \n",
       "                       92             91             90      ...        \\\n",
       " pair       Key.space,'o'  Key.space,'m'  Key.space,'l'      ...         \n",
       " delta_avg       0.237001       0.275468       0.282835      ...         \n",
       " \n",
       "                  9         8              7         6         5         4   \\\n",
       " pair        'c','a'   'b','e'  'a',Key.space   'a','t'   'a','s'   'a','r'   \n",
       " delta_avg  0.133903  0.168773       0.140696  0.133799  0.113459  0.137642   \n",
       " \n",
       "                  3         2         1              0   \n",
       " pair        'a','n'   'a','l'   'a','c'  '.',Key.space  \n",
       " delta_avg  0.103769  0.129742  0.206313       0.129155  \n",
       " \n",
       " [2 rows x 100 columns],\n",
       "                             99                       98             97  \\\n",
       " pair       Key.space,Key.shift  Key.space,Key.backspace  Key.space,'w'   \n",
       " delta_avg             0.333977                 0.617774        0.23677   \n",
       " \n",
       "                       96             95             94             93  \\\n",
       " pair       Key.space,'t'  Key.space,'s'  Key.space,'r'  Key.space,'p'   \n",
       " delta_avg       0.214762       0.225687       0.238899       0.271795   \n",
       " \n",
       "                       92             91             90      ...        \\\n",
       " pair       Key.space,'o'  Key.space,'m'  Key.space,'l'      ...         \n",
       " delta_avg        0.25105       0.310345       0.202915      ...         \n",
       " \n",
       "                  9         8              7         6         5         4   \\\n",
       " pair        'c','a'   'b','e'  'a',Key.space   'a','t'   'a','s'   'a','r'   \n",
       " delta_avg  0.139295  0.165545       0.122272  0.136873  0.120008  0.134188   \n",
       " \n",
       "                  3         2         1              0   \n",
       " pair        'a','n'   'a','l'   'a','c'  '.',Key.space  \n",
       " delta_avg  0.120873  0.111796  0.212819       0.101574  \n",
       " \n",
       " [2 rows x 100 columns])"
      ]
     },
     "execution_count": 12,
     "metadata": {},
     "output_type": "execute_result"
    }
   ],
   "source": [
    "top_pairs = get_top_pairs()\n",
    "train_test = [train_test_split(df, test_size = TEST_SIZE) for df in dataframes]\n",
    "featurized = [(featurize_that_bish(pair[0], top_pairs), featurize_that_bish(pair[1], top_pairs)) for pair in train_test]\n",
    "featurized[0]"
   ]
  },
  {
   "cell_type": "markdown",
   "metadata": {},
   "source": [
    "## Random Forests"
   ]
  },
  {
   "cell_type": "code",
   "execution_count": 13,
   "metadata": {},
   "outputs": [
    {
     "data": {
      "text/plain": [
       "array([[ 0.99997529,  0.00000002,  0.00002469],\n",
       "       [ 0.01972599,  0.98023097,  0.00004304],\n",
       "       [ 0.0000345 ,  0.00001185,  0.99995365]])"
      ]
     },
     "execution_count": 13,
     "metadata": {},
     "output_type": "execute_result"
    }
   ],
   "source": [
    "boost = AdaBoostClassifier()\n",
    "boost.fit(train, LABELS)\n",
    "boost.predict(test)\n",
    "np.set_printoptions(suppress=True)\n",
    "boost.predict_proba(test)"
   ]
  },
  {
   "cell_type": "code",
   "execution_count": null,
   "metadata": {
    "collapsed": true
   },
   "outputs": [],
   "source": []
  }
 ],
 "metadata": {
  "kernelspec": {
   "display_name": "Python 3",
   "language": "python",
   "name": "python3"
  },
  "language_info": {
   "codemirror_mode": {
    "name": "ipython",
    "version": 3
   },
   "file_extension": ".py",
   "mimetype": "text/x-python",
   "name": "python",
   "nbconvert_exporter": "python",
   "pygments_lexer": "ipython3",
   "version": "3.6.4"
  }
 },
 "nbformat": 4,
 "nbformat_minor": 2
}
