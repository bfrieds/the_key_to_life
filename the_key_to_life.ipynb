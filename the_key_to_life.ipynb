{
 "cells": [
  {
   "cell_type": "markdown",
   "metadata": {},
   "source": [
    "# The Key to Life"
   ]
  },
  {
   "cell_type": "code",
   "execution_count": 161,
   "metadata": {},
   "outputs": [],
   "source": [
    "import numpy as np\n",
    "import pandas as pd\n",
    "from sklearn.utils import shuffle\n",
    "from sklearn.model_selection import train_test_split\n",
    "from sklearn.linear_model import LogisticRegression"
   ]
  },
  {
   "cell_type": "code",
   "execution_count": 113,
   "metadata": {},
   "outputs": [],
   "source": [
    "df = pd.read_csv(\"brian_keylogs_clean.csv\")\n",
    "el = pd.read_csv(\"eleanor_keylogs_clean.csv\")"
   ]
  },
  {
   "cell_type": "code",
   "execution_count": 123,
   "metadata": {},
   "outputs": [],
   "source": [
    "def featurize_that_bish(df, top_pairs=None):\n",
    "    data = pd.DataFrame(df.groupby(\"pair\")['delta'].mean().reset_index())\n",
    "    if top_pairs:\n",
    "        data = data.where(data[\"pair\"].isin(top_pairs)).dropna()\n",
    "    data.columns = [\"pair\", \"delta_avg\"]\n",
    "    data = data.reset_index()\n",
    "    del data[\"index\"]\n",
    "    data = data.sort_values(\"pair\", ascending=False)\n",
    "    return data.transpose()"
   ]
  },
  {
   "cell_type": "code",
   "execution_count": 147,
   "metadata": {},
   "outputs": [],
   "source": [
    "top_pairs = set(df.groupby(\"pair\").count().sort_values(\"delta\", ascending=False).reset_index()[:100]['pair'])\n",
    "df = shuffle(df)\n",
    "el = shuffle(el)\n",
    "bf_train, bf_test = train_test_split(df, test_size = 0.33)\n",
    "bf_train, bf_test = featurize_that_bish(bf_train, top_pairs), featurize_that_bish(bf_test, top_pairs)\n",
    "el_train, el_test = train_test_split(el, test_size = 0.33)\n",
    "el_train, el_test = featurize_that_bish(el_train, top_pairs), featurize_that_bish(el_test, top_pairs)"
   ]
  },
  {
   "cell_type": "code",
   "execution_count": 148,
   "metadata": {},
   "outputs": [],
   "source": [
    "def combine_data(a, b):\n",
    "    new = pd.DataFrame(a)\n",
    "    new.append(b, axis=1)\n",
    "    return new"
   ]
  },
  {
   "cell_type": "code",
   "execution_count": 159,
   "metadata": {},
   "outputs": [],
   "source": [
    "elt = el_train.iloc[1:]\n",
    "bft = bf_train.iloc[1:]\n",
    "elte = el_test.iloc[1:]\n",
    "bfte = bf_test.iloc[1:]\n",
    "train = np.asmatrix(bft.append(elt))\n",
    "test = np.asmatrix(bfte.append(elte))\n",
    "y = np.array([0, 1])"
   ]
  },
  {
   "cell_type": "code",
   "execution_count": 162,
   "metadata": {},
   "outputs": [
    {
     "data": {
      "text/plain": [
       "LogisticRegression(C=1.0, class_weight=None, dual=False, fit_intercept=True,\n",
       "          intercept_scaling=1, max_iter=100, multi_class='ovr', n_jobs=1,\n",
       "          penalty='l2', random_state=None, solver='liblinear', tol=0.0001,\n",
       "          verbose=0, warm_start=False)"
      ]
     },
     "execution_count": 162,
     "metadata": {},
     "output_type": "execute_result"
    }
   ],
   "source": [
    "log = LogisticRegression()\n",
    "log.fit(train, y)"
   ]
  },
  {
   "cell_type": "code",
   "execution_count": 166,
   "metadata": {},
   "outputs": [
    {
     "data": {
      "text/plain": [
       "array([0, 1])"
      ]
     },
     "execution_count": 166,
     "metadata": {},
     "output_type": "execute_result"
    }
   ],
   "source": []
  },
  {
   "cell_type": "code",
   "execution_count": null,
   "metadata": {
    "collapsed": true
   },
   "outputs": [],
   "source": []
  }
 ],
 "metadata": {
  "kernelspec": {
   "display_name": "Python 3",
   "language": "python",
   "name": "python3"
  },
  "language_info": {
   "codemirror_mode": {
    "name": "ipython",
    "version": 3
   },
   "file_extension": ".py",
   "mimetype": "text/x-python",
   "name": "python",
   "nbconvert_exporter": "python",
   "pygments_lexer": "ipython3",
   "version": "3.6.2"
  }
 },
 "nbformat": 4,
 "nbformat_minor": 2
}
