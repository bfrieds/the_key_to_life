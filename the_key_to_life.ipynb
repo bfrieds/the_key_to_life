{
 "cells": [
  {
   "cell_type": "markdown",
   "metadata": {},
   "source": [
    "# The Key to Life"
   ]
  },
  {
   "cell_type": "code",
   "execution_count": 95,
   "metadata": {
    "collapsed": true
   },
   "outputs": [],
   "source": [
    "import numpy as np\n",
    "import pandas as pd\n",
    "from sklearn.utils import shuffle\n",
    "from sklearn.model_selection import train_test_split\n",
    "from sklearn.linear_model import LogisticRegression\n",
    "\n",
    "TEST_SIZE = 0.25"
   ]
  },
  {
   "cell_type": "code",
   "execution_count": 87,
   "metadata": {
    "collapsed": true
   },
   "outputs": [],
   "source": [
    "df = pd.read_csv(\"brian_keylogs_clean.csv\")\n",
    "el = pd.read_csv(\"eleanor_keylogs_clean.csv\")"
   ]
  },
  {
   "cell_type": "code",
   "execution_count": 88,
   "metadata": {
    "collapsed": true
   },
   "outputs": [],
   "source": [
    "def featurize_that_bish(df, top_pairs=None):\n",
    "    data = pd.DataFrame(df.groupby(\"pair\")['delta'].median().reset_index())\n",
    "    if top_pairs:\n",
    "        data = data.where(data[\"pair\"].isin(top_pairs)).dropna()\n",
    "    data.columns = [\"pair\", \"delta_avg\"]\n",
    "    data = data.reset_index()\n",
    "    del data[\"index\"]\n",
    "    data = data.sort_values(\"pair\", ascending=False)\n",
    "    return data.transpose()\n",
    "\n",
    "def split_data(data, test_size = 0.33, top_pairs=None):\n",
    "    data = shuffle(data)\n",
    "    train, test = train_test_split(data, test_size=test_size)\n",
    "    return featurize_that_bish(train, top_pairs), featurize_that_bish(test, top_pairs)\n",
    "\n",
    "def combine_data(a, b):\n",
    "    new = pd.DataFrame(a)\n",
    "    new.append(b, axis=1)\n",
    "    return new\n",
    "\n",
    "def create_regression_parameters(train_list, test_list, labels):\n",
    "    y = labels #np.array(list(range(len(train_list))))\n",
    "    train = train_list[0]\n",
    "    test = test_list[0]\n",
    "    for i in range(1, len(train_list)):\n",
    "        train = train.append(train_list[i])\n",
    "        test = test.append(test_list[i])\n",
    "    return np.asmatrix(train), np.asmatrix(test), y"
   ]
  },
  {
   "cell_type": "code",
   "execution_count": 89,
   "metadata": {},
   "outputs": [
    {
     "name": "stdout",
     "output_type": "stream",
     "text": [
      "{\"'s','h'\", \"'t','e'\", \"'e','a'\", \"'o','f'\", \"'n','e'\", \"'d','t'\", \"'e','t'\", \"'s','e'\", \"'i','s'\", \"'w','a'\", \"'e','n'\", \"'e','r'\", \"'e','w'\", \"'h','a'\", \"'e','s'\", \"'t','t'\", \"'a','t'\", \"'n','d'\", \"'s','o'\", \"'a','d'\", \"'o','t'\", \"'h','i'\", \"'o','r'\", \"'h','e'\", \"'i','n'\", \"'o','n'\", \"'a','s'\", \"'r','a'\", \"'m','e'\", \"'n','o'\", \"'a','l'\", \"'l','l'\", \"'d','i'\", \"'s','t'\", \"'l','e'\", \"'t','o'\", \"'e','d'\", \"'t','a'\", \"'e','l'\", \"'t','i'\", \"'t','h'\", \"'n','t'\", \"'d','e'\", \"'a','r'\", \"'r','i'\", \"'a','n'\", \"'v','e'\", \"'o','u'\", \"'r','e'\", \"'s','a'\", \"'r','o'\", \"'n','g'\", \"'i','t'\"}\n"
     ]
    }
   ],
   "source": [
    "top_pairs = set([\"'t','h'\", \"'a','r'\", \"'h','e'\", \"'t','e'\", \"'a','n'\", \"'s','e'\", \"'i','n'\", \"'m','e'\", \"'e','r'\", \"'s','a'\", \"'n','d'\", \"'n','e'\", \"'r','e'\", \"'w','a'\", \"'e','d'\", \"'v','e'\", \"'e','s'\", \"'l','e'\", \"'o','u'\", \"'n','o'\", \"'t','o'\", \"'t','a'\", \"'h','a'\", \"'a','l'\", \"'e','n'\", \"'d','e'\", \"'e','a'\", \"'o','t'\", \"'s','t'\", \"'s','o'\", \"'n','t'\", \"'d','t'\", \"'o','n'\", \"'l','l'\", \"'a','t'\", \"'t','t'\", \"'h','i'\", \"'e','l'\", \"'a','s'\", \"'r','o'\", \"'i','t'\", \"'a','d'\", \"'n','g'\", \"'d','i'\", \"'i','s'\", \"'e','w'\", \"'o','r'\", \"'r','a'\", \"'e','t'\", \"'r','i'\", \"'o','f'\", \"'s','h'\", \"'t','i'\" ])\n",
    "print(top_pairs)\n",
    "bf_train, bf_test = split_data(df, TEST_SIZE, top_pairs=top_pairs)\n",
    "el_train, el_test = split_data(el, TEST_SIZE, top_pairs=top_pairs)"
   ]
  },
  {
   "cell_type": "code",
   "execution_count": 90,
   "metadata": {},
   "outputs": [
    {
     "name": "stdout",
     "output_type": "stream",
     "text": [
      "                 52         51        50         49         48        47  \\\n",
      "delta_avg  0.114231  0.0893581  0.134956  0.0680568  0.0761049  0.076069   \n",
      "\n",
      "                  46        45        44         43    ...            9   \\\n",
      "delta_avg  0.0997782  0.108133  0.193713  0.0957849    ...     0.0820171   \n",
      "\n",
      "                8         7         6         5         4         3   \\\n",
      "delta_avg  1.81702  0.102747  0.166895  0.145564  0.126817  0.133751   \n",
      "\n",
      "                 2         1         0   \n",
      "delta_avg  0.085066  0.110223  0.156972  \n",
      "\n",
      "[1 rows x 53 columns]\n"
     ]
    }
   ],
   "source": [
    "labels = [\"El\", \"Brian\"]\n",
    "train_list = [el_train.iloc[1:], bf_train.iloc[1:]]\n",
    "test_list = [el_test.iloc[1:], bf_test.iloc[1:]]\n",
    "train, test, y = create_regression_parameters(train_list, test_list, labels)\n",
    "print(train_list[0])"
   ]
  },
  {
   "cell_type": "code",
   "execution_count": 96,
   "metadata": {},
   "outputs": [
    {
     "data": {
      "text/plain": [
       "LogisticRegression(C=1.0, class_weight=None, dual=False, fit_intercept=True,\n",
       "          intercept_scaling=1, max_iter=100, multi_class='ovr', n_jobs=1,\n",
       "          penalty='l2', random_state=None, solver='liblinear', tol=0.0001,\n",
       "          verbose=0, warm_start=False)"
      ]
     },
     "execution_count": 96,
     "metadata": {},
     "output_type": "execute_result"
    }
   ],
   "source": [
    "log = LogisticRegression()\n",
    "log.fit(train, y)"
   ]
  },
  {
   "cell_type": "code",
   "execution_count": 98,
   "metadata": {},
   "outputs": [
    {
     "data": {
      "text/plain": [
       "array(['Brian'], \n",
       "      dtype='<U5')"
      ]
     },
     "execution_count": 98,
     "metadata": {},
     "output_type": "execute_result"
    }
   ],
   "source": [
    "log.predict(test[0])"
   ]
  },
  {
   "cell_type": "code",
   "execution_count": null,
   "metadata": {
    "collapsed": true
   },
   "outputs": [],
   "source": []
  },
  {
   "cell_type": "code",
   "execution_count": null,
   "metadata": {
    "collapsed": true
   },
   "outputs": [],
   "source": []
  }
 ],
 "metadata": {
  "kernelspec": {
   "display_name": "Python 3",
   "language": "python",
   "name": "python3"
  },
  "language_info": {
   "codemirror_mode": {
    "name": "ipython",
    "version": 3
   },
   "file_extension": ".py",
   "mimetype": "text/x-python",
   "name": "python",
   "nbconvert_exporter": "python",
   "pygments_lexer": "ipython3",
   "version": "3.6.2"
  }
 },
 "nbformat": 4,
 "nbformat_minor": 2
}
