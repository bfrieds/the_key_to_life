{
 "cells": [
  {
   "cell_type": "markdown",
   "metadata": {},
   "source": [
    "# The Key to Life"
   ]
  },
  {
   "cell_type": "markdown",
   "metadata": {},
   "source": [
    "## Imports and Global Variables"
   ]
  },
  {
   "cell_type": "code",
   "execution_count": 188,
   "metadata": {
    "collapsed": true
   },
   "outputs": [],
   "source": [
    "import numpy as np\n",
    "import pandas as pd\n",
    "from sklearn.utils import shuffle\n",
    "from sklearn.model_selection import train_test_split\n",
    "from sklearn.linear_model import LogisticRegression\n",
    "from sklearn.ensemble import AdaBoostClassifier\n",
    "\n",
    "TEST_SIZE = 0.33\n",
    "LABELS = [\"Brian\", \"Eleanor\"]\n",
    "FILES = [\"brian_keylogs_clean.csv\", \"eleanor_keylogs_clean.csv\"]"
   ]
  },
  {
   "cell_type": "markdown",
   "metadata": {},
   "source": [
    "## Featurization and Train/Test Split (DO NOT TOUCH)"
   ]
  },
  {
   "cell_type": "code",
   "execution_count": 183,
   "metadata": {
    "collapsed": true
   },
   "outputs": [],
   "source": [
    "def featurize_that_bish(df, top_pairs=None):\n",
    "    data = pd.DataFrame(df.groupby(\"pair\")['delta'].mean().reset_index())\n",
    "    if top_pairs:\n",
    "        data = data.where(data[\"pair\"].isin(top_pairs)).dropna()\n",
    "    data.columns = [\"pair\", \"delta_avg\"]\n",
    "    data = data.reset_index()\n",
    "    del data[\"index\"]\n",
    "    data = data.sort_values(\"pair\", ascending=False)\n",
    "    data = data.transpose()\n",
    "    return data\n",
    "\n",
    "def combine_data(a, b):\n",
    "    new = pd.DataFrame(a)\n",
    "    new.append(b, axis=1)\n",
    "    return new\n",
    "\n",
    "def create_matrix(lst):\n",
    "    mat = lst[0]\n",
    "    for mat1 in lst[1:]:\n",
    "        mat = mat.append(mat1)\n",
    "    return np.asmatrix(mat)\n",
    "\n",
    "def get_top_pairs():\n",
    "    return set(dataframes[0].groupby(\"pair\").count().sort_values(\"delta\", ascending=False).reset_index()[:100]['pair'])\n",
    "\n",
    "def get_train_test(dataframes):\n",
    "    train_test = [train_test_split(df, test_size = TEST_SIZE) for df in dataframes]\n",
    "    featurized = [(featurize_that_bish(pair[0], top_pairs), featurize_that_bish(pair[1], top_pairs)) for pair in train_test]\n",
    "    training_lst = [pair[0].iloc[1:] for pair in featurized]\n",
    "    test_lst = [pair[1].iloc[1:] for pair in featurized]\n",
    "    train = np.asmatrix(pd.DataFrame(create_matrix(training_lst)).fillna(0))\n",
    "    test = np.asmatrix(pd.DataFrame(create_matrix(test_lst)).fillna(0))\n",
    "    return train, test\n",
    "\n",
    "def print_probabilities(model, test):\n",
    "    result = list(model.predict_proba(test))\n",
    "    print(LABELS)\n",
    "    for arr in result:\n",
    "        print(arr)"
   ]
  },
  {
   "cell_type": "code",
   "execution_count": 184,
   "metadata": {},
   "outputs": [],
   "source": [
    "dataframes = [shuffle(pd.read_csv(file)) for file in FILES]\n",
    "train, test = get_train_test(dataframes)"
   ]
  },
  {
   "cell_type": "markdown",
   "metadata": {},
   "source": [
    "## Logistic Regression"
   ]
  },
  {
   "cell_type": "code",
   "execution_count": 187,
   "metadata": {},
   "outputs": [
    {
     "name": "stdout",
     "output_type": "stream",
     "text": [
      "['Brian', 'Eleanor']\n",
      "[ 0.49990663  0.50009337]\n",
      "[ 0.50583308  0.49416692]\n",
      "None\n"
     ]
    }
   ],
   "source": [
    "log = LogisticRegression(penalty='l2')\n",
    "log.fit(train, labels)\n",
    "print(print_probabilities(log, test))"
   ]
  },
  {
   "cell_type": "markdown",
   "metadata": {},
   "source": [
    "## SVM"
   ]
  },
  {
   "cell_type": "code",
   "execution_count": null,
   "metadata": {
    "collapsed": true
   },
   "outputs": [],
   "source": []
  },
  {
   "cell_type": "markdown",
   "metadata": {},
   "source": [
    "## Random Forests"
   ]
  },
  {
   "cell_type": "code",
   "execution_count": 189,
   "metadata": {},
   "outputs": [
    {
     "name": "stdout",
     "output_type": "stream",
     "text": [
      "['Brian', 'Eleanor']\n",
      "[  1.00000000e+00   2.22044605e-16]\n",
      "[  1.00000000e+00   2.22044605e-16]\n",
      "None\n"
     ]
    }
   ],
   "source": [
    "boost = AdaBoostClassifier()\n",
    "boost.fit(train, labels)\n",
    "print(print_probabilities(boost, test))"
   ]
  },
  {
   "cell_type": "code",
   "execution_count": null,
   "metadata": {
    "collapsed": true
   },
   "outputs": [],
   "source": []
  }
 ],
 "metadata": {
  "kernelspec": {
   "display_name": "Python 3",
   "language": "python",
   "name": "python3"
  },
  "language_info": {
   "codemirror_mode": {
    "name": "ipython",
    "version": 3
   },
   "file_extension": ".py",
   "mimetype": "text/x-python",
   "name": "python",
   "nbconvert_exporter": "python",
   "pygments_lexer": "ipython3",
   "version": "3.6.2"
  }
 },
 "nbformat": 4,
 "nbformat_minor": 2
}
