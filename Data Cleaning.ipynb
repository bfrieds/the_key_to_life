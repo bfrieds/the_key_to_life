{
 "cells": [
  {
   "cell_type": "code",
   "execution_count": 1,
   "metadata": {
    "collapsed": true
   },
   "outputs": [],
   "source": [
    "# GET CSV\n",
    "csv_name = \"walt_malphite99.csv\""
   ]
  },
  {
   "cell_type": "code",
   "execution_count": 2,
   "metadata": {
    "collapsed": true
   },
   "outputs": [],
   "source": [
    "# IMPORTS\n",
    "import pandas as pd\n",
    "import numpy as np"
   ]
  },
  {
   "cell_type": "code",
   "execution_count": 12,
   "metadata": {},
   "outputs": [
    {
     "data": {
      "text/plain": [
       "<bound method NDFrame.describe of               key   timestamp   action\n",
       "0             'm'  1522805209    press\n",
       "1             'a'  1522805209    press\n",
       "2             'm'  1522805209  release\n",
       "3             'l'  1522805209    press\n",
       "4             'a'  1522805209  release\n",
       "5             'l'  1522805209  release\n",
       "6             'p'  1522805209    press\n",
       "7             'h'  1522805209    press\n",
       "8             'p'  1522805209  release\n",
       "9             'i'  1522805210    press\n",
       "10            'h'  1522805210  release\n",
       "11            'i'  1522805210  release\n",
       "12            't'  1522805210    press\n",
       "13            'e'  1522805210    press\n",
       "14            't'  1522805210  release\n",
       "15            '9'  1522805210    press\n",
       "16            'e'  1522805210  release\n",
       "17            '9'  1522805210  release\n",
       "18            '9'  1522805210    press\n",
       "19            '9'  1522805210  release\n",
       "20    Key.shift_r  1522805210    press\n",
       "21            '1'  1522805210    press\n",
       "22    Key.shift_r  1522805210  release\n",
       "23            '1'  1522805210  release\n",
       "24      Key.enter  1522805210    press\n",
       "25      Key.enter  1522805210  release\n",
       "26            'm'  1522805211    press\n",
       "27            'a'  1522805211    press\n",
       "28            'm'  1522805211  release\n",
       "29            'l'  1522805211    press\n",
       "...           ...         ...      ...\n",
       "1482    Key.enter  1522805407    press\n",
       "1483    Key.enter  1522805407  release\n",
       "1484          'm'  1522805408    press\n",
       "1485          'a'  1522805408    press\n",
       "1486          'm'  1522805408  release\n",
       "1487          'l'  1522805408    press\n",
       "1488          'a'  1522805408  release\n",
       "1489          'l'  1522805408  release\n",
       "1490          'p'  1522805408    press\n",
       "1491          'h'  1522805408    press\n",
       "1492          'p'  1522805408  release\n",
       "1493          'i'  1522805408    press\n",
       "1494          'h'  1522805408  release\n",
       "1495          't'  1522805408    press\n",
       "1496          'i'  1522805408  release\n",
       "1497          'e'  1522805408    press\n",
       "1498          't'  1522805408  release\n",
       "1499          'e'  1522805408  release\n",
       "1500          '9'  1522805408    press\n",
       "1501          '9'  1522805408  release\n",
       "1502          '9'  1522805408    press\n",
       "1503          '9'  1522805408  release\n",
       "1504  Key.shift_r  1522805409    press\n",
       "1505          '1'  1522805409    press\n",
       "1506  Key.shift_r  1522805409  release\n",
       "1507          '1'  1522805409  release\n",
       "1508    Key.enter  1522805409    press\n",
       "1509    Key.enter  1522805409  release\n",
       "1510     Key.ctrl  1522805412    press\n",
       "1511          'c'  1522805412    press\n",
       "\n",
       "[1512 rows x 3 columns]>"
      ]
     },
     "execution_count": 12,
     "metadata": {},
     "output_type": "execute_result"
    }
   ],
   "source": [
    "bike = pd.read_csv(csv_name)\n",
    "bike.describe"
   ]
  },
  {
   "cell_type": "code",
   "execution_count": null,
   "metadata": {
    "collapsed": true
   },
   "outputs": [],
   "source": []
  }
 ],
 "metadata": {
  "kernelspec": {
   "display_name": "Python 3",
   "language": "python",
   "name": "python3"
  },
  "language_info": {
   "codemirror_mode": {
    "name": "ipython",
    "version": 3
   },
   "file_extension": ".py",
   "mimetype": "text/x-python",
   "name": "python",
   "nbconvert_exporter": "python",
   "pygments_lexer": "ipython3",
   "version": "3.6.4"
  }
 },
 "nbformat": 4,
 "nbformat_minor": 2
}
