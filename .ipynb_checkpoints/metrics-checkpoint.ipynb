{
 "cells": [
  {
   "cell_type": "markdown",
   "metadata": {},
   "source": [
    "# The Key to Life"
   ]
  },
  {
   "cell_type": "markdown",
   "metadata": {},
   "source": [
    "## Imports and Global Variables"
   ]
  },
  {
   "cell_type": "code",
   "execution_count": 2,
   "metadata": {
    "collapsed": true
   },
   "outputs": [],
   "source": [
    "import numpy as np\n",
    "import pandas as pd\n",
    "import seaborn as sn\n",
    "import matplotlib.pyplot as plt\n",
    "from sklearn.utils import shuffle\n",
    "from sklearn.model_selection import train_test_split\n",
    "from sklearn.linear_model import LogisticRegression\n",
    "from sklearn.ensemble import AdaBoostClassifier, RandomForestClassifier\n",
    "from sklearn import svm\n",
    "from sklearn.metrics import classification_report\n",
    "\n",
    "TEST_SIZE = 0.33\n",
    "LABELS = [\"Brian\", \"Eleanor\", \"Walt\"]\n",
    "FILES = [\"brian_keylogs_clean.csv\", \"eleanor_keylogs_clean.csv\", \"walt_combined_clean.csv\"]"
   ]
  },
  {
   "cell_type": "markdown",
   "metadata": {},
   "source": [
    "## Featurization and Train/Test Split (DO NOT TOUCH)"
   ]
  },
  {
   "cell_type": "code",
   "execution_count": 41,
   "metadata": {
    "collapsed": true
   },
   "outputs": [],
   "source": [
    "def featurize_that_bish(df, top_pairs=None):\n",
    "    data = pd.DataFrame(df.groupby(\"pair\")['delta'].mean().reset_index())\n",
    "    if top_pairs:\n",
    "        data = data.where(data[\"pair\"].isin(top_pairs)).dropna()\n",
    "    data.columns = [\"pair\", \"delta_avg\"]\n",
    "    data = data.reset_index()\n",
    "    del data[\"index\"]\n",
    "    data = data.sort_values(\"pair\", ascending=False)\n",
    "    data = data.transpose()\n",
    "    return data\n",
    "\n",
    "def combine_data(a, b):\n",
    "    new = pd.DataFrame(a)\n",
    "    new.append(b, axis=1)\n",
    "    return new\n",
    "\n",
    "def create_matrix(lst):\n",
    "    mat = lst[0]\n",
    "    for mat1 in lst[1:]:\n",
    "        mat = mat.append(mat1)\n",
    "    return np.asmatrix(mat)\n",
    "\n",
    "def get_top_pairs():\n",
    "    return set(dataframes[0].groupby(\"pair\").count().sort_values(\"delta\", ascending=False).reset_index()[:100]['pair'])\n",
    "\n",
    "def get_train_test(dataframes):\n",
    "    top_pairs = get_top_pairs()\n",
    "    train_test = [train_test_split(df, test_size = TEST_SIZE) for df in dataframes]\n",
    "    featurized = [(featurize_that_bish(pair[0], top_pairs), featurize_that_bish(pair[1], top_pairs)) for pair in train_test]\n",
    "    training_lst = [pair[0].iloc[1:] for pair in featurized]\n",
    "    test_lst = [pair[1].iloc[1:] for pair in featurized]\n",
    "    train = np.asmatrix(pd.DataFrame(create_matrix(training_lst)).fillna(0))\n",
    "    test = np.asmatrix(pd.DataFrame(create_matrix(test_lst)).fillna(0))\n",
    "    return train, test\n",
    "\n",
    "def print_probabilities(model, test):\n",
    "    result = list(model.predict_proba(test))\n",
    "    print(LABELS)\n",
    "    for arr in result:\n",
    "        print(arr)\n",
    "        \n",
    "def create_metrics(model, params=None, n=100):\n",
    "    confusion_matrix = np.zeros((len(LABELS), len(LABELS)))\n",
    "    def create_confusion_matrix(predictions):\n",
    "        for i in range(len(predictions)):\n",
    "            j = LABELS.index(predictions[i])\n",
    "            confusion_matrix[i,j] += 1\n",
    "    if not params:\n",
    "        params = {}\n",
    "    for i in range(n):\n",
    "        dataframes = [shuffle(pd.read_csv(file)) for file in FILES]\n",
    "        train, test = get_train_test(dataframes)\n",
    "        clf = model(**params)\n",
    "        clf.fit(train, LABELS)\n",
    "        predictions = clf.predict(test)\n",
    "        create_confusion_matrix(predictions)\n",
    "    return confusion_matrix\n",
    "\n",
    "def plot_confusion_matrix(matrix, title = \"Confusion Matrix\", heatmap_params={}):\n",
    "    df_cm = pd.DataFrame(matrix, index = LABELS,\n",
    "                      columns = LABELS)\n",
    "    plt.figure(figsize = (10,7))\n",
    "    ax = plt.axes()\n",
    "    heatmap = sn.heatmap(df_cm, annot=True, fmt='g', ax = ax, **heatmap_params)\n",
    "    ax.set_title(title)\n",
    "    return heatmap"
   ]
  },
  {
   "cell_type": "code",
   "execution_count": 3,
   "metadata": {
    "collapsed": true
   },
   "outputs": [],
   "source": [
    "dataframes = [shuffle(pd.read_csv(file)) for file in FILES]\n",
    "train, test = get_train_test(dataframes)"
   ]
  },
  {
   "cell_type": "markdown",
   "metadata": {},
   "source": [
    "## Logistic Regression"
   ]
  },
  {
   "cell_type": "code",
   "execution_count": 11,
   "metadata": {},
   "outputs": [
    {
     "name": "stdout",
     "output_type": "stream",
     "text": [
      "['Brian', 'Eleanor', 'Walt']\n",
      "[ 0.38289894  0.34916268  0.26793838]\n",
      "[ 0.37036416  0.38082694  0.2488089 ]\n",
      "[ 0.31473201  0.31423442  0.37103357]\n",
      "None\n"
     ]
    }
   ],
   "source": [
    "log = LogisticRegression(penalty='l2')\n",
    "log.fit(train, LABELS)\n",
    "print(print_probabilities(log, test))"
   ]
  },
  {
   "cell_type": "markdown",
   "metadata": {},
   "source": [
    "## SVM"
   ]
  },
  {
   "cell_type": "code",
   "execution_count": 12,
   "metadata": {},
   "outputs": [
    {
     "data": {
      "text/plain": [
       "(                            99                       98             97  \\\n",
       " pair       Key.space,Key.shift  Key.space,Key.backspace  Key.space,'w'   \n",
       " delta_avg             0.330394                 0.623971        0.24462   \n",
       " \n",
       "                       96             95             94             93  \\\n",
       " pair       Key.space,'t'  Key.space,'s'  Key.space,'r'  Key.space,'p'   \n",
       " delta_avg        0.21059       0.253325       0.260316        0.27709   \n",
       " \n",
       "                       92             91             90      ...        \\\n",
       " pair       Key.space,'o'  Key.space,'m'  Key.space,'l'      ...         \n",
       " delta_avg       0.237001       0.275468       0.282835      ...         \n",
       " \n",
       "                  9         8              7         6         5         4   \\\n",
       " pair        'c','a'   'b','e'  'a',Key.space   'a','t'   'a','s'   'a','r'   \n",
       " delta_avg  0.133903  0.168773       0.140696  0.133799  0.113459  0.137642   \n",
       " \n",
       "                  3         2         1              0   \n",
       " pair        'a','n'   'a','l'   'a','c'  '.',Key.space  \n",
       " delta_avg  0.103769  0.129742  0.206313       0.129155  \n",
       " \n",
       " [2 rows x 100 columns],\n",
       "                             99                       98             97  \\\n",
       " pair       Key.space,Key.shift  Key.space,Key.backspace  Key.space,'w'   \n",
       " delta_avg             0.333977                 0.617774        0.23677   \n",
       " \n",
       "                       96             95             94             93  \\\n",
       " pair       Key.space,'t'  Key.space,'s'  Key.space,'r'  Key.space,'p'   \n",
       " delta_avg       0.214762       0.225687       0.238899       0.271795   \n",
       " \n",
       "                       92             91             90      ...        \\\n",
       " pair       Key.space,'o'  Key.space,'m'  Key.space,'l'      ...         \n",
       " delta_avg        0.25105       0.310345       0.202915      ...         \n",
       " \n",
       "                  9         8              7         6         5         4   \\\n",
       " pair        'c','a'   'b','e'  'a',Key.space   'a','t'   'a','s'   'a','r'   \n",
       " delta_avg  0.139295  0.165545       0.122272  0.136873  0.120008  0.134188   \n",
       " \n",
       "                  3         2         1              0   \n",
       " pair        'a','n'   'a','l'   'a','c'  '.',Key.space  \n",
       " delta_avg  0.120873  0.111796  0.212819       0.101574  \n",
       " \n",
       " [2 rows x 100 columns])"
      ]
     },
     "execution_count": 12,
     "metadata": {},
     "output_type": "execute_result"
    }
   ],
   "source": [
    "top_pairs = get_top_pairs()\n",
    "train_test = [train_test_split(df, test_size = TEST_SIZE) for df in dataframes]\n",
    "featurized = [(featurize_that_bish(pair[0], top_pairs), featurize_that_bish(pair[1], top_pairs)) for pair in train_test]\n",
    "featurized[0]"
   ]
  },
  {
   "cell_type": "markdown",
   "metadata": {},
   "source": [
    "## Random Forests"
   ]
  },
  {
   "cell_type": "code",
   "execution_count": 13,
   "metadata": {},
   "outputs": [
    {
     "data": {
      "text/plain": [
       "array([[ 0.99997529,  0.00000002,  0.00002469],\n",
       "       [ 0.01972599,  0.98023097,  0.00004304],\n",
       "       [ 0.0000345 ,  0.00001185,  0.99995365]])"
      ]
     },
     "execution_count": 13,
     "metadata": {},
     "output_type": "execute_result"
    }
   ],
   "source": [
    "boost = AdaBoostClassifier()\n",
    "boost.fit(train, LABELS)\n",
    "boost.predict(test)\n",
    "np.set_printoptions(suppress=True)\n",
    "boost.predict_proba(test)"
   ]
  },
  {
   "cell_type": "markdown",
   "metadata": {
    "collapsed": true
   },
   "source": [
    "# Metrics"
   ]
  },
  {
   "cell_type": "code",
   "execution_count": 16,
   "metadata": {},
   "outputs": [
    {
     "name": "stdout",
     "output_type": "stream",
     "text": [
      "Logistic\n",
      "[[ 100.    0.    0.]\n",
      " [  41.   57.    2.]\n",
      " [  61.    7.   32.]]\n",
      "[[ 33.  47.  20.]\n",
      " [ 33.  47.  20.]\n",
      " [ 33.  47.  20.]]\n",
      "[[ 99.   1.   0.]\n",
      " [ 16.  80.   4.]\n",
      " [ 24.  10.  66.]]\n",
      "[[ 91.   9.   0.]\n",
      " [ 91.   9.   0.]\n",
      " [ 91.   9.   0.]]\n",
      "SVM SVC\n",
      "[[ 100.    0.    0.]\n",
      " [  45.   52.    3.]\n",
      " [  72.    4.   24.]]\n",
      "SVM Linear\n",
      "[[ 100.    0.    0.]\n",
      " [  32.   65.    3.]\n",
      " [  60.    2.   38.]]\n",
      "SVM NuSVC\n",
      "[[ 100.    0.    0.]\n",
      " [  46.   54.    0.]\n",
      " [  61.   11.   28.]]\n",
      "Randeom Forest\n",
      "[[ 71.  17.  12.]\n",
      " [ 32.  60.   8.]\n",
      " [ 17.   9.  74.]]\n",
      "AdaBoost\n",
      "[[ 98.   1.   1.]\n",
      " [ 14.  84.   2.]\n",
      " [  4.   1.  95.]]\n"
     ]
    }
   ],
   "source": [
    "print(\"Logistic\")\n",
    "print(create_metrics(LogisticRegression, params={\"multi_class\" : \"multinomial\", \"penalty\" : \"l2\", \"solver\" : \"newton-cg\"}))\n",
    "print(create_metrics(LogisticRegression, params={\"multi_class\" : \"multinomial\", \"penalty\" : \"l1\", \"solver\" : \"saga\"}))\n",
    "print(create_metrics(LogisticRegression, params={\"multi_class\" : \"ovr\", \"penalty\" : \"l2\"}))\n",
    "print(create_metrics(LogisticRegression, params={\"multi_class\" : \"ovr\", \"penalty\" : \"l1\"}))\n",
    "print(\"SVM SVC\")\n",
    "print(create_metrics(svm.SVC))\n",
    "print(\"SVM Linear\")\n",
    "print(create_metrics(svm.LinearSVC))\n",
    "print(\"SVM NuSVC\")\n",
    "print(create_metrics(svm.NuSVC))\n",
    "print(\"Randeom Forest\")\n",
    "print(create_metrics(RandomForestClassifier))\n",
    "print(\"AdaBoost\")\n",
    "print(create_metrics(AdaBoostClassifier))"
   ]
  },
  {
   "cell_type": "code",
   "execution_count": 17,
   "metadata": {},
   "outputs": [
    {
     "name": "stdout",
     "output_type": "stream",
     "text": [
      "Logistic\n",
      "[[ 982.   18.    0.]\n",
      " [ 156.  777.   67.]\n",
      " [ 297.  144.  559.]]\n",
      "Random Forest\n",
      "[[ 800.  134.   66.]\n",
      " [ 373.  575.   52.]\n",
      " [ 226.   92.  682.]]\n",
      "AdaBoost\n",
      "[[ 984.   11.    5.]\n",
      " [ 120.  865.   15.]\n",
      " [  16.    8.  976.]]\n"
     ]
    }
   ],
   "source": [
    "print(\"Logistic\")\n",
    "print(create_metrics(LogisticRegression, n=1000))\n",
    "print(\"Random Forest\")\n",
    "print(create_metrics(RandomForestClassifier, n=1000))\n",
    "print(\"AdaBoost\")\n",
    "print(create_metrics(AdaBoostClassifier, n=1000))"
   ]
  },
  {
   "cell_type": "code",
   "execution_count": 3,
   "metadata": {
    "collapsed": true
   },
   "outputs": [],
   "source": [
    "confusion_matrices = {\n",
    "    \"logistic\" : [[ 982,   18,    0],\n",
    "                 [ 156,  777,   67],\n",
    "                 [ 297,  144,  559]],\n",
    "    \"random_forest\" : [[ 800,  134,   66],\n",
    "                      [ 373,  575,   52],\n",
    "                      [ 226,   92,  682]],\n",
    "    \"adaboost\" : [[ 984,   11,    5],\n",
    "                 [ 120,  865,   15],\n",
    "                 [  16,    8,  976]]\n",
    "}\n",
    "\n",
    "titles = {\n",
    "    \"logistic\" : \"Logistic Confusion Matrix\",\n",
    "    \"random_forest\" : \"Random Forest Confusion Matrix\",\n",
    "    \"adaboost\" : \"Adaboost Confusion Matrix\"\n",
    "}"
   ]
  },
  {
   "cell_type": "code",
   "execution_count": 45,
   "metadata": {},
   "outputs": [
    {
     "data": {
      "image/png": "[encoded data removed]",
      "text/plain": [
       "<matplotlib.figure.Figure at 0x1a0d3e3cf8>"
      ]
     },
     "metadata": {},
     "output_type": "display_data"
    },
    {
     "data": {
      "image/png": "[encoded data removed]",
      "text/plain": [
       "<matplotlib.figure.Figure at 0x1a0ad158d0>"
      ]
     },
     "metadata": {},
     "output_type": "display_data"
    },
    {
     "data": {
      "image/png": "[encoded data removed]",
      "text/plain": [
       "<matplotlib.figure.Figure at 0x1a19424630>"
      ]
     },
     "metadata": {},
     "output_type": "display_data"
    }
   ],
   "source": [
    "for key in confusion_matrices:\n",
    "    plot_confusion_matrix(confusion_matrices[key], title = titles[key], heatmap_params = {\"cmap\" : \"winter\" })\n",
    "    fname = \"{0}.png\".format(titles[key].replace(\" \", \"_\").lower())\n",
    "    plt.savefig(fname)"
   ]
  },
  {
   "cell_type": "code",
   "execution_count": 4,
   "metadata": {},
   "outputs": [],
   "source": [
    "def calc_f1_score(confusion_matrix):\n",
    "    def create_y():\n",
    "        ytrue = []\n",
    "        ypred = []\n",
    "        for i in range(len(confusion_matrix)):\n",
    "            for j in range(len(confusion_matrix[i])):\n",
    "                count = confusion_matrix[i][j]\n",
    "                predicted = LABELS[j]\n",
    "                true = LABELS[i]\n",
    "                ytrue.extend([true] * count)\n",
    "                ypred.extend([predicted] * count)\n",
    "        return ytrue, ypred\n",
    "    ytrue, ypred = create_y()\n",
    "    return f1_score(ytrue, ypred)"
   ]
  },
  {
   "cell_type": "code",
   "execution_count": 6,
   "metadata": {},
   "outputs": [
    {
     "ename": "ValueError",
     "evalue": "Target is multiclass but average='binary'. Please choose another average setting.",
     "output_type": "error",
     "traceback": [
      "\u001b[0;31m---------------------------------------------------------------------------\u001b[0m",
      "\u001b[0;31mValueError\u001b[0m                                Traceback (most recent call last)",
      "\u001b[0;32m<ipython-input-6-3989a80235b2>\u001b[0m in \u001b[0;36m<module>\u001b[0;34m()\u001b[0m\n\u001b[0;32m----> 1\u001b[0;31m \u001b[0mcalc_f1_score\u001b[0m\u001b[0;34m(\u001b[0m\u001b[0mconfusion_matrices\u001b[0m\u001b[0;34m[\u001b[0m\u001b[0;34m\"logistic\"\u001b[0m\u001b[0;34m]\u001b[0m\u001b[0;34m)\u001b[0m\u001b[0;34m\u001b[0m\u001b[0m\n\u001b[0m",
      "\u001b[0;32m<ipython-input-4-0730b699a7c1>\u001b[0m in \u001b[0;36mcalc_f1_score\u001b[0;34m(confusion_matrix)\u001b[0m\n\u001b[1;32m     12\u001b[0m         \u001b[0;32mreturn\u001b[0m \u001b[0mytrue\u001b[0m\u001b[0;34m,\u001b[0m \u001b[0mypred\u001b[0m\u001b[0;34m\u001b[0m\u001b[0m\n\u001b[1;32m     13\u001b[0m     \u001b[0mytrue\u001b[0m\u001b[0;34m,\u001b[0m \u001b[0mypred\u001b[0m \u001b[0;34m=\u001b[0m \u001b[0mcreate_y\u001b[0m\u001b[0;34m(\u001b[0m\u001b[0;34m)\u001b[0m\u001b[0;34m\u001b[0m\u001b[0m\n\u001b[0;32m---> 14\u001b[0;31m     \u001b[0;32mreturn\u001b[0m \u001b[0mf1_score\u001b[0m\u001b[0;34m(\u001b[0m\u001b[0mytrue\u001b[0m\u001b[0;34m,\u001b[0m \u001b[0mypred\u001b[0m\u001b[0;34m)\u001b[0m\u001b[0;34m\u001b[0m\u001b[0m\n\u001b[0m",
      "\u001b[0;32m~/anaconda3/lib/python3.6/site-packages/sklearn/metrics/classification.py\u001b[0m in \u001b[0;36mf1_score\u001b[0;34m(y_true, y_pred, labels, pos_label, average, sample_weight)\u001b[0m\n\u001b[1;32m    712\u001b[0m     return fbeta_score(y_true, y_pred, 1, labels=labels,\n\u001b[1;32m    713\u001b[0m                        \u001b[0mpos_label\u001b[0m\u001b[0;34m=\u001b[0m\u001b[0mpos_label\u001b[0m\u001b[0;34m,\u001b[0m \u001b[0maverage\u001b[0m\u001b[0;34m=\u001b[0m\u001b[0maverage\u001b[0m\u001b[0;34m,\u001b[0m\u001b[0;34m\u001b[0m\u001b[0m\n\u001b[0;32m--> 714\u001b[0;31m                        sample_weight=sample_weight)\n\u001b[0m\u001b[1;32m    715\u001b[0m \u001b[0;34m\u001b[0m\u001b[0m\n\u001b[1;32m    716\u001b[0m \u001b[0;34m\u001b[0m\u001b[0m\n",
      "\u001b[0;32m~/anaconda3/lib/python3.6/site-packages/sklearn/metrics/classification.py\u001b[0m in \u001b[0;36mfbeta_score\u001b[0;34m(y_true, y_pred, beta, labels, pos_label, average, sample_weight)\u001b[0m\n\u001b[1;32m    826\u001b[0m                                                  \u001b[0maverage\u001b[0m\u001b[0;34m=\u001b[0m\u001b[0maverage\u001b[0m\u001b[0;34m,\u001b[0m\u001b[0;34m\u001b[0m\u001b[0m\n\u001b[1;32m    827\u001b[0m                                                  \u001b[0mwarn_for\u001b[0m\u001b[0;34m=\u001b[0m\u001b[0;34m(\u001b[0m\u001b[0;34m'f-score'\u001b[0m\u001b[0;34m,\u001b[0m\u001b[0;34m)\u001b[0m\u001b[0;34m,\u001b[0m\u001b[0;34m\u001b[0m\u001b[0m\n\u001b[0;32m--> 828\u001b[0;31m                                                  sample_weight=sample_weight)\n\u001b[0m\u001b[1;32m    829\u001b[0m     \u001b[0;32mreturn\u001b[0m \u001b[0mf\u001b[0m\u001b[0;34m\u001b[0m\u001b[0m\n\u001b[1;32m    830\u001b[0m \u001b[0;34m\u001b[0m\u001b[0m\n",
      "\u001b[0;32m~/anaconda3/lib/python3.6/site-packages/sklearn/metrics/classification.py\u001b[0m in \u001b[0;36mprecision_recall_fscore_support\u001b[0;34m(y_true, y_pred, beta, labels, pos_label, average, warn_for, sample_weight)\u001b[0m\n\u001b[1;32m   1038\u001b[0m         \u001b[0;32melse\u001b[0m\u001b[0;34m:\u001b[0m\u001b[0;34m\u001b[0m\u001b[0m\n\u001b[1;32m   1039\u001b[0m             raise ValueError(\"Target is %s but average='binary'. Please \"\n\u001b[0;32m-> 1040\u001b[0;31m                              \"choose another average setting.\" % y_type)\n\u001b[0m\u001b[1;32m   1041\u001b[0m     \u001b[0;32melif\u001b[0m \u001b[0mpos_label\u001b[0m \u001b[0;32mnot\u001b[0m \u001b[0;32min\u001b[0m \u001b[0;34m(\u001b[0m\u001b[0;32mNone\u001b[0m\u001b[0;34m,\u001b[0m \u001b[0;36m1\u001b[0m\u001b[0;34m)\u001b[0m\u001b[0;34m:\u001b[0m\u001b[0;34m\u001b[0m\u001b[0m\n\u001b[1;32m   1042\u001b[0m         warnings.warn(\"Note that pos_label (set to %r) is ignored when \"\n",
      "\u001b[0;31mValueError\u001b[0m: Target is multiclass but average='binary'. Please choose another average setting."
     ]
    }
   ],
   "source": [
    "calc_f1_score(confusion_matrices[\"logistic\"])"
   ]
  },
  {
   "cell_type": "code",
   "execution_count": null,
   "metadata": {
    "collapsed": true
   },
   "outputs": [],
   "source": []
  }
 ],
 "metadata": {
  "kernelspec": {
   "display_name": "Python 3",
   "language": "python",
   "name": "python3"
  },
  "language_info": {
   "codemirror_mode": {
    "name": "ipython",
    "version": 3
   },
   "file_extension": ".py",
   "mimetype": "text/x-python",
   "name": "python",
   "nbconvert_exporter": "python",
   "pygments_lexer": "ipython3",
   "version": "3.6.2"
  }
 },
 "nbformat": 4,
 "nbformat_minor": 2
}
